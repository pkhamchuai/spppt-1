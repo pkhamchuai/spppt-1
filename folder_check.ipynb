{
 "cells": [
  {
   "cell_type": "code",
   "execution_count": 10,
   "metadata": {},
   "outputs": [
    {
     "name": "stdout",
     "output_type": "stream",
     "text": [
      "Level 2 directories in 15-12-2559: ['2011248', '2976988-16', '2976988-15']\n",
      "Level 2 directories in 03-03-2560: ['3220394-1RL', '1790390-1R', '1387253-1R', '3786536-1RL']\n",
      "Level 2 directories in 06-10-2560: ['b1', 'c2', 'c1', 'b2']\n",
      "Level 2 directories in 02-12-2559: ['3609798', '2964006', '3375737']\n",
      "Level 2 directories in 30-12-2559: ['2477598', '3042768', '3236468']\n",
      "Level 2 directories in 23-12-2559: ['2438008', '3691745', '1426104', '3553023', '3752642', '2323956']\n",
      "Level 2 directories in 16-12-2559: ['3042988', '0827849', '3754534']\n",
      "Level 2 directories in 10-08-2562: ['3913050-Complete-LE', '2520770-Complete-RE', '2467600-Complete-LE', '3334839-Complete-RE', '3845478-Comolete-RE', '3092607-Complete-RE', '3161626-Complete-LE', '3593802-Complete-LE', '0802859-Complete-RE', '3640068-Complete-RE', '2018095-Complete-LE', '2339762-Complete-LE', '2814414-Complete-LE', '3090676-Complete-LE', '0542330-Complete-LE', '3422291-Complete-RE', '3038815-Complete-RE', '2960420-Complete-LE', '2819794-Complete-LE', '2415792-Complete-RE']\n",
      "Level 2 directories in 10-03-2560: ['2725606-1RL', '3785076-1RL']\n",
      "Level 2 directories in 28-10-2559: ['3742255', '3744758', '2467373', '3736065', '2853348', '3757201']\n",
      "Level 2 directories in 17-03-2560: ['3788391-1RL', '3640734-1RL']\n",
      "Level 2 directories in 06-01-2560: ['2930625', '1934357', '3680074-2']\n",
      "Level 2 directories in 20-01-2560: ['3755654', '3777840']\n",
      "Level 2 directories in 13-01-2560: ['2203721', '2446177']\n",
      "Level 2 directories in 31-03-2560: ['0956143-R']\n",
      "Level 2 directories in 25-11-2559: ['2892188', '3751785', '3200815', '3767273']\n",
      "Level 2 directories in 05-05-2560: ['3754033-R', '3422586-R', '3084442-L']\n",
      "Level 2 directories in 04-11-2559: ['3719087', '3680074', '0328944']\n",
      "Level 2 directories in 28-04-2560: ['3796983-R', '2446177-L', '3798159-R', '3106318-R', '3797814-R', '3792354-L', '2238864-RL']\n"
     ]
    }
   ],
   "source": [
    "import os\n",
    "\n",
    "path = \"Dataset/Dataset-processed\"\n",
    "\n",
    "\n",
    "\n",
    "directories = [d for d in os.listdir(path) if os.path.isdir(os.path.join(path, d))]\n",
    "# print(directories)\n",
    "for directory in directories:\n",
    "    subdirectories = [d for d in os.listdir(os.path.join(path, directory)) if os.path.isdir(os.path.join(path, directory, d))]\n",
    "    print(f\"Level 2 directories in {directory}: {subdirectories}\")\n"
   ]
  },
  {
   "cell_type": "code",
   "execution_count": 11,
   "metadata": {},
   "outputs": [
    {
     "name": "stdout",
     "output_type": "stream",
     "text": [
      "Duplicate subdirectories: set()\n"
     ]
    }
   ],
   "source": [
    "subdirectories = []\n",
    "for directory in os.listdir(path):\n",
    "    if os.path.isdir(os.path.join(path, directory)):\n",
    "        for subdirectory in os.listdir(os.path.join(path, directory)):\n",
    "            if os.path.isdir(os.path.join(path, directory, subdirectory)):\n",
    "                subdirectories.append(subdirectory)\n",
    "\n",
    "duplicates = set([x for x in subdirectories if subdirectories.count(x) > 1])\n",
    "\n",
    "print(f\"Duplicate subdirectories: {duplicates}\")"
   ]
  }
 ],
 "metadata": {
  "kernelspec": {
   "display_name": "spppt",
   "language": "python",
   "name": "python3"
  },
  "language_info": {
   "codemirror_mode": {
    "name": "ipython",
    "version": 3
   },
   "file_extension": ".py",
   "mimetype": "text/x-python",
   "name": "python",
   "nbconvert_exporter": "python",
   "pygments_lexer": "ipython3",
   "version": "3.8.18"
  }
 },
 "nbformat": 4,
 "nbformat_minor": 2
}
