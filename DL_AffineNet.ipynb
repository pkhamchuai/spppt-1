{
 "cells": [
  {
   "cell_type": "markdown",
   "metadata": {},
   "source": [
    "# Import"
   ]
  },
  {
   "cell_type": "code",
   "execution_count": 5,
   "metadata": {},
   "outputs": [
    {
     "name": "stdout",
     "output_type": "stream",
     "text": [
      "Device: cuda\n"
     ]
    }
   ],
   "source": [
    "import numpy as np\n",
    "import os\n",
    "import cv2\n",
    "import torch\n",
    "import matplotlib.pyplot as plt\n",
    "from skimage.metrics import structural_similarity as ssim\n",
    "from skimage.measure import ransac\n",
    "from skimage.transform import FundamentalMatrixTransform, AffineTransform\n",
    "\n",
    "# Suppress the specific warning\n",
    "import warnings\n",
    "import csv\n",
    "import sys\n",
    "from IPython.utils.capture import capture_output\n",
    "from datetime import datetime\n",
    "from tqdm import tqdm\n",
    "\n",
    "import torch\n",
    "from torchvision import transforms\n",
    "from torch import nn, optim\n",
    "import torch.nn.functional as F\n",
    "from torch.utils import data\n",
    "\n",
    "from torch.utils.data import DataLoader\n",
    "from torchvision.transforms import ToTensor\n",
    "\n",
    "from utils.utils0 import *\n",
    "from utils.utils0 import transform_to_displacement_field\n",
    "from utils.utils1 import *\n",
    "from utils.utils1 import ModelParams, DL_affine_plot, loss_extra\n",
    "\n",
    "device = torch.device(\"cuda\" if torch.cuda.is_available() else \"cpu\")\n",
    "print(f'Device: {device}')\n",
    "\n",
    "# Stub to warn about opencv version.\n",
    "if int(cv2.__version__[0]) < 3: # pragma: no cover\n",
    "  print('Warning: OpenCV 3 is not installed')\n",
    "\n",
    "image_size = 256\n"
   ]
  },
  {
   "cell_type": "markdown",
   "metadata": {},
   "source": [
    "## Cases, model parameters\n",
    "- Supervised DL w/ groundtruth affine transformation parameters (MSE params, MSE, NCC images)\n",
    "    - Synthetic eye\n",
    "    - Synthetic shape\n",
    "- Unsupervised DL (MSE, NCC images)\n",
    "    - Actual eye data\n",
    "    - Synthetic eye\n",
    "    - Synthetic shape\n",
    "- Data\n",
    "    - only images\n",
    "    - only heatmaps\n",
    "    - images & heatmaps\n",
    "- Loss function\n",
    "    - MSE affine parameters\n",
    "    - MSE, NCC images\n",
    "\n",
    "    "
   ]
  },
  {
   "cell_type": "code",
   "execution_count": null,
   "metadata": {},
   "outputs": [],
   "source": []
  },
  {
   "cell_type": "code",
   "execution_count": 6,
   "metadata": {},
   "outputs": [
    {
     "name": "stdout",
     "output_type": "stream",
     "text": [
      "Model name:  dataset1_sup1_image1_heatmaps0_loss_image2\n",
      "Model code:  11102_0.001_0_1_1\n",
      "Model params:  {'dataset': 1, 'sup': 1, 'image': 1, 'heatmaps': 0, 'loss_image_case': 2, 'loss_image': <utils.utils1.MSE_SSIM object at 0x7fc9e87118b0>, 'loss_affine': <utils.utils1.loss_affine object at 0x7fc9e87116a0>, 'learning_rate': 0.001, 'decay_rate': 0.96, 'start_epoch': 0, 'num_epochs': 1, 'batch_size': 1, 'model_name': 'dataset1_sup1_image1_heatmaps0_loss_image2'}\n",
      "\n",
      "Model name:  dataset1_sup1_image1_heatmaps0_loss_image2\n",
      "Model code:  11102_0.001_0_1_1\n",
      "Dataset used:  Synthetic eye\n",
      "Supervised or unsupervised model:  Supervised\n",
      "Image type:  Image used\n",
      "Heatmaps used:  Heatmaps not used\n",
      "Loss function case:  2\n",
      "Loss function for image:  <utils.utils1.MSE_SSIM object at 0x7fc9e87118b0>\n",
      "Loss function for affine:  <utils.utils1.loss_affine object at 0x7fc9e87116a0>\n",
      "Learning rate:  0.001\n",
      "Decay rate:  0.96\n",
      "Start epoch:  0\n",
      "Number of epochs:  1\n",
      "Batch size:  1\n",
      "\n",
      "\n"
     ]
    }
   ],
   "source": [
    "model_params = ModelParams(sup=1, dataset=1, image=1, heatmaps=0, \n",
    "                           loss_image=2, num_epochs=1)\n",
    "model_params.print_explanation()"
   ]
  },
  {
   "cell_type": "markdown",
   "metadata": {},
   "source": [
    "# Models\n",
    "## SuperPoint"
   ]
  },
  {
   "cell_type": "code",
   "execution_count": 7,
   "metadata": {},
   "outputs": [],
   "source": [
    "from utils.SuperPoint import SuperPointFrontend"
   ]
  },
  {
   "cell_type": "markdown",
   "metadata": {},
   "source": [
    "## ImgReg Network"
   ]
  },
  {
   "cell_type": "code",
   "execution_count": 8,
   "metadata": {},
   "outputs": [],
   "source": [
    "from utils.SPaffineNet import AffineNet"
   ]
  },
  {
   "cell_type": "markdown",
   "metadata": {},
   "source": [
    "## SP ImgReg model"
   ]
  },
  {
   "cell_type": "code",
   "execution_count": null,
   "metadata": {},
   "outputs": [],
   "source": [
    "# define model\n",
    "class SP_AffineNet(nn.Module):\n",
    "    def __init__(self):\n",
    "        super(SP_AffineNet, self).__init__()\n",
    "        self.superpoint = SuperPointFrontend('utils/superpoint_v1.pth', nms_dist=4,\n",
    "                          conf_thresh=0.015, nn_thresh=0.7, cuda=True)\n",
    "        self.affineNet = AffineNet()\n",
    "        self.nn_thresh = 0.7\n",
    "\n",
    "    def forward(self, source_image, target_image):\n",
    "        # source_image = source_image.to(device)\n",
    "        # target_image = target_image.to(device)\n",
    "\n",
    "        # print('source_image: ', source_image.shape)\n",
    "        # print('target_image: ', target_image.shape)\n",
    "        points1, desc1, heatmap1 = self.superpoint(source_image[0, 0, :, :].cpu().numpy())\n",
    "        points2, desc2, heatmap2 = self.superpoint(target_image[0, 0, :, :].cpu().numpy())\n",
    "\n",
    "        if model_params.heatmaps == 0:\n",
    "            affine_params = self.affineNet(source_image, target_image)\n",
    "        elif model_params.heatmaps == 1:\n",
    "            affine_params = self.affineNet(source_image, target_image, heatmap1, heatmap2)\n",
    "\n",
    "        transformed_source_affine = tensor_affine_transform(source_image, affine_params)\n",
    "\n",
    "        # match the points between the two images\n",
    "        tracker = PointTracker(5, nn_thresh=0.7)\n",
    "        try:\n",
    "            matches = tracker.nn_match_two_way(desc1, desc2, nn_thresh=self.nn_thresh)\n",
    "        except:\n",
    "            print('No matches found')\n",
    "            # TODO: find a better way to do this\n",
    "            try:\n",
    "                while matches.shape[1] < 3 and self.nn_thresh > 0.1:\n",
    "                    self.nn_thresh = self.nn_thresh - 0.1\n",
    "                    matches = tracker.nn_match_two_way(desc1, desc2, nn_thresh=self.nn_thresh)\n",
    "            except:\n",
    "                return transformed_source_affine, affine_params, [], [], [], [], [], [], []\n",
    "\n",
    "        # take the elements from points1 and points2 using the matches as indices\n",
    "        matches1 = points1[:2, matches[0, :].astype(int)]\n",
    "        matches2 = points2[:2, matches[1, :].astype(int)]\n",
    "\n",
    "        # transform the points using the affine parameters\n",
    "        displacement_field = torch.zeros(source_image.size(0), source_image.size(1)).to(device)\n",
    "        DVF_affine = transform_to_displacement_field(\n",
    "                    displacement_field.view(1, 1, displacement_field.size(0), displacement_field.size(1)),\n",
    "                    affine_params, device=device)\n",
    "\n",
    "        matches1_transformed = ops.landmark_transformer2(matches1, DVF_affine.cpu())\n",
    "\n",
    "        return transformed_source_affine, affine_params, matches1, matches2, matches1_transformed, desc1, desc2, heatmap1, heatmap2\n",
    "\n",
    "        # return transformed_source_affine, affine_params\n",
    "\n",
    "        \n"
   ]
  },
  {
   "cell_type": "markdown",
   "metadata": {},
   "source": [
    "# Load data"
   ]
  },
  {
   "cell_type": "code",
   "execution_count": 9,
   "metadata": {},
   "outputs": [],
   "source": [
    "from utils.datagen import datagen"
   ]
  },
  {
   "cell_type": "markdown",
   "metadata": {},
   "source": [
    "# Training\n",
    "## Dataset initialization"
   ]
  },
  {
   "cell_type": "code",
   "execution_count": 10,
   "metadata": {},
   "outputs": [
    {
     "name": "stdout",
     "output_type": "stream",
     "text": [
      "Train set:  [torch.Size([1, 1, 256, 256]), torch.Size([1, 1, 256, 256]), torch.Size([1, 6])]\n",
      "Test set:  [torch.Size([1, 1, 256, 256]), torch.Size([1, 1, 256, 256]), torch.Size([1, 6])]\n"
     ]
    }
   ],
   "source": [
    "train_dataset = datagen(model_params.dataset, True, model_params.sup)\n",
    "test_dataset = datagen(model_params.dataset, False, model_params.sup)\n",
    "\n",
    "# Get sample batch\n",
    "print('Train set: ', [x.shape for x in next(iter(train_dataset))])\n",
    "print('Test set: ', [x.shape for x in next(iter(test_dataset))])"
   ]
  },
  {
   "cell_type": "markdown",
   "metadata": {},
   "source": [
    "## Model initialize"
   ]
  },
  {
   "cell_type": "code",
   "execution_count": 11,
   "metadata": {},
   "outputs": [
    {
     "name": "stdout",
     "output_type": "stream",
     "text": [
      "dataset1_sup1_image1_heatmaps0_loss_image2\n",
      "\n",
      "Model name:  dataset1_sup1_image1_heatmaps0_loss_image2\n",
      "Model code:  11102_0.001_0_1_1\n",
      "Dataset used:  Synthetic eye\n",
      "Supervised or unsupervised model:  Supervised\n",
      "Image type:  Image used\n",
      "Heatmaps used:  Heatmaps not used\n",
      "Loss function case:  2\n",
      "Loss function for image:  <utils.utils1.MSE_SSIM object at 0x7fc9e87118b0>\n",
      "Loss function for affine:  <utils.utils1.loss_affine object at 0x7fc9e87116a0>\n",
      "Learning rate:  0.001\n",
      "Decay rate:  0.96\n",
      "Start epoch:  0\n",
      "Number of epochs:  1\n",
      "Batch size:  1\n",
      "\n",
      "\n"
     ]
    }
   ],
   "source": [
    "# print case\n",
    "print(model_params)\n",
    "model_params.print_explanation()"
   ]
  },
  {
   "cell_type": "code",
   "execution_count": 12,
   "metadata": {},
   "outputs": [
    {
     "name": "stdout",
     "output_type": "stream",
     "text": [
      "AffineNet(\n",
      "  (conv1): Conv2d(1, 64, kernel_size=(3, 3), stride=(1, 1), padding=(1, 1))\n",
      "  (conv2): Conv2d(64, 128, kernel_size=(3, 3), stride=(1, 1), padding=(1, 1))\n",
      "  (conv3): Conv2d(128, 256, kernel_size=(3, 3), stride=(1, 1), padding=(1, 1))\n",
      "  (conv4): Conv2d(256, 512, kernel_size=(3, 3), stride=(1, 1), padding=(1, 1))\n",
      "  (conv5): Conv2d(512, 512, kernel_size=(3, 3), stride=(1, 1), padding=(1, 1))\n",
      "  (conv1s): Conv2d(64, 64, kernel_size=(2, 2), stride=(2, 2))\n",
      "  (conv2s): Conv2d(128, 128, kernel_size=(2, 2), stride=(2, 2))\n",
      "  (conv3s): Conv2d(256, 256, kernel_size=(2, 2), stride=(2, 2))\n",
      "  (conv4s): Conv2d(512, 512, kernel_size=(2, 2), stride=(2, 2))\n",
      "  (fc1): Linear(in_features=1024, out_features=128, bias=True)\n",
      "  (fc2): Linear(in_features=128, out_features=64, bias=True)\n",
      "  (fc3): Linear(in_features=64, out_features=32, bias=True)\n",
      "  (fc4): Linear(in_features=32, out_features=6, bias=True)\n",
      "  (aPooling): AdaptiveAvgPool2d(output_size=(1, 1))\n",
      "  (ReLU): LeakyReLU(negative_slope=0.01)\n",
      "  (Act1): GroupNorm(32, 64, eps=1e-05, affine=True)\n",
      "  (Act2): GroupNorm(64, 128, eps=1e-05, affine=True)\n",
      "  (Act3): GroupNorm(128, 256, eps=1e-05, affine=True)\n",
      "  (Act4): GroupNorm(256, 512, eps=1e-05, affine=True)\n",
      "  (Act5): GroupNorm(256, 512, eps=1e-05, affine=True)\n",
      ")\n",
      "No model loaded, starting from scratch\n"
     ]
    }
   ],
   "source": [
    "model = AffineNet().to(device)\n",
    "print(model)\n",
    "\n",
    "parameters = model.parameters()\n",
    "optimizer = optim.Adam(parameters, model_params.learning_rate)\n",
    "scheduler = optim.lr_scheduler.LambdaLR(optimizer, lambda epoch: model_params.decay_rate ** epoch)\n",
    "#model_path = 'trained_models/01102_0.001_20_1_20230930-091532.pth'\n",
    "\n",
    "# if a model is loaded, the training will continue from the epoch it was saved at\n",
    "try:\n",
    "    model.load_state_dict(torch.load(model_path))\n",
    "    model_params.start_epoch = int(model_path.split('/')[-1].split('_')[2])\n",
    "    print(f'Loaded model from {model_path}\\nstarting at epoch {model_params.start_epoch}')\n",
    "except:\n",
    "    model_params.start_epoch = 0\n",
    "    print('No model loaded, starting from scratch')"
   ]
  },
  {
   "cell_type": "markdown",
   "metadata": {},
   "source": [
    "## Training function"
   ]
  },
  {
   "cell_type": "code",
   "execution_count": 11,
   "metadata": {},
   "outputs": [],
   "source": [
    "# Define training function\n",
    "def train(model, model_params, timestamp):\n",
    "    # Set model to training mode\n",
    "    model.train()\n",
    "\n",
    "    # Define loss function based on supervised or unsupervised learning\n",
    "    criterion = model_params.loss_image\n",
    "    extra = loss_extra()\n",
    "\n",
    "    if model_params.sup:\n",
    "        criterion_affine = nn.MSELoss()\n",
    "        # TODO: add loss for points1_affine and points2, Euclidean distance\n",
    "\n",
    "    # Define optimizer\n",
    "    optimizer = optim.Adam(model.parameters(), lr=model_params.learning_rate)\n",
    "\n",
    "    # Create empty list to store epoch number, train loss and validation loss\n",
    "    epoch_loss_list = []\n",
    "    \n",
    "    # Create output directory\n",
    "    output_dir = f\"output/{model_params.get_model_code()}_{timestamp}\"\n",
    "    os.makedirs(output_dir, exist_ok=True)\n",
    "\n",
    "    # Train model\n",
    "    for epoch in range(model_params.start_epoch, model_params.num_epochs):\n",
    "        running_loss = 0.0\n",
    "        train_bar = tqdm(train_dataset, desc=f'Training Epoch {epoch+1}/{model_params.num_epochs}')\n",
    "        for i, data in enumerate(train_bar):\n",
    "            # Get images and affine parameters\n",
    "            if model_params.sup:\n",
    "                source_image, target_image, affine_params_true = data\n",
    "            else:\n",
    "                source_image, target_image = data\n",
    "            source_image = source_image.to(device)\n",
    "            target_image = target_image.to(device)\n",
    "\n",
    "            # Zero the parameter gradients\n",
    "            optimizer.zero_grad()\n",
    "\n",
    "            # Forward + backward + optimize\n",
    "            outputs = model(source_image, target_image)\n",
    "            # for i in range(len(outputs)):\n",
    "            #         print(i, outputs[i].shape)\n",
    "            # 0 torch.Size([1, 1, 256, 256])\n",
    "            # 1 torch.Size([1, 2, 3])\n",
    "            # 2 (2, 4)\n",
    "            # 3 (2, 4)\n",
    "            # 4 (1, 4, 2)\n",
    "            # 5 (256, 9)\n",
    "            # 6 (256, 16)\n",
    "            # 7 (256, 256)\n",
    "            # 8 (256, 256)\n",
    "            transformed_source_affine = outputs[0]\n",
    "            affine_params_predicted = outputs[1]\n",
    "            points1 = outputs[2]\n",
    "            points2 = outputs[3]\n",
    "            points1_affine = np.array(outputs[4])\n",
    "            try:\n",
    "                points1_affine = points1_affine.reshape(points1_affine.shape[2], points1_affine.shape[1])\n",
    "            except:\n",
    "                pass\n",
    "            desc1 = outputs[5]\n",
    "            desc2 = outputs[6]\n",
    "            heatmap1 = outputs[7]\n",
    "            heatmap2 = outputs[8]\n",
    "\n",
    "            loss = criterion(transformed_source_affine, target_image)\n",
    "            loss += extra(affine_params_predicted)\n",
    "            if model_params.sup:\n",
    "                loss_affine = criterion_affine(affine_params_true.view(1, 2, 3), affine_params_predicted.cpu())\n",
    "                # TODO: add loss for points1_affine and points2, Euclidean distance\n",
    "                # loss_points = criterion_points(points1_affine, points2)\n",
    "\n",
    "                loss += loss_affine\n",
    "            loss.backward()\n",
    "            optimizer.step()\n",
    "\n",
    "            # Print statistics\n",
    "            running_loss += loss.item()\n",
    "            train_bar.set_postfix({'loss': running_loss / (i+1)})\n",
    "        print(f'Training Epoch {epoch+1}/{model_params.num_epochs} loss: {running_loss / len(train_dataset)}')\n",
    "\n",
    "        # Validate model\n",
    "        validation_loss = 0.0\n",
    "        with torch.no_grad():\n",
    "            for i, data in enumerate(test_dataset, 0):\n",
    "                # Get images and affine parameters\n",
    "                if model_params.sup:\n",
    "                    source_image, target_image, affine_params_true = data\n",
    "                else:\n",
    "                    source_image, target_image = data\n",
    "                source_image = source_image.to(device)\n",
    "                target_image = target_image.to(device)\n",
    "\n",
    "                # Forward pass\n",
    "                outputs = model(source_image, target_image)\n",
    "                # for i in range(len(outputs)):\n",
    "                #     print(i, outputs[i].shape)\n",
    "                transformed_source_affine = outputs[0]\n",
    "                affine_params_predicted = outputs[1]\n",
    "                points1 = outputs[2]\n",
    "                points2 = outputs[3]\n",
    "                points1_affine = np.array(outputs[4])\n",
    "                try:\n",
    "                    points1_affine = points1_affine.reshape(points1_affine.shape[2], points1_affine.shape[1])\n",
    "                except:\n",
    "                    pass\n",
    "                desc1 = outputs[5]\n",
    "                desc2 = outputs[6]\n",
    "                heatmap1 = outputs[7]\n",
    "                heatmap2 = outputs[8]\n",
    "\n",
    "                loss = criterion(transformed_source_affine, target_image)\n",
    "                loss += extra(affine_params_predicted)\n",
    "                if model_params.sup:\n",
    "                    loss_affine = criterion_affine(affine_params_true.view(1, 2, 3), affine_params_predicted.cpu())\n",
    "                    # TODO: add loss for points1_affine and points2, Euclidean distance\n",
    "                    # loss_points = criterion_points(points1_affine, points2)\n",
    "\n",
    "                    loss += loss_affine\n",
    "\n",
    "                # Add to validation loss\n",
    "                validation_loss += loss.item()\n",
    "\n",
    "                # Plot images if i < 5\n",
    "                \n",
    "                if i < 5:\n",
    "                    output_file = f\"{output_dir}/validation_epoch{epoch+1}.txt\"\n",
    "                    try: # need to do this because the warning cannot be suppressed, fix clipping makes the image all black\n",
    "                        # Open the file in append mode to save the print statements\n",
    "                        with open(output_file, 'a') as file:\n",
    "                            # Redirect sys.stdout to the file\n",
    "                            sys.stdout = file\n",
    "\n",
    "                            # Redirect warnings to the file\n",
    "                            # warnings.filterwarnings('always')  # Capture all warnings\n",
    "                            warnings_file = open(output_file, 'a')\n",
    "                            warnings.showwarning = lambda message, category, filename, lineno, file=warnings_file, line=None: file.write(warnings.formatwarning(message, category, filename, lineno, line))\n",
    "                            \n",
    "                            # Plot images\n",
    "                            with capture_output():\n",
    "                                DL_affine_plot(f\"epoch{epoch+1}\", output_dir,\n",
    "                                    f\"{i}\", \"_\", source_image[0, 0, :, :].cpu().numpy(), target_image[0, 0, :, :].cpu().numpy(), transformed_source_affine[0, 0, :, :].cpu().numpy(),\n",
    "                                    points1, points2, points1_affine, desc1, desc2, \\\n",
    "                                        affine_params=affine_params_predicted, heatmap1=heatmap1, heatmap2=heatmap2, plot=True)\n",
    "                                \n",
    "                            # Reset sys.stdout to the console\n",
    "                            sys.stdout = sys.__stdout__\n",
    "                            warnings_file.close()\n",
    "                    except Exception as e:\n",
    "                        # Handle exceptions, if any\n",
    "                        print(f\"An error occurred: {e}\")\n",
    "\n",
    "        # Print validation statistics\n",
    "        validation_loss /= len(test_dataset)\n",
    "        print(f'Validation Epoch {epoch+1}/{model_params.num_epochs} loss: {validation_loss}')\n",
    "\n",
    "        # Append epoch number, train loss and validation loss to epoch_loss_list\n",
    "        epoch_loss_list.append([epoch+1, running_loss / len(train_dataset), validation_loss])\n",
    "\n",
    "    print('Finished Training')\n",
    "\n",
    "    # delete all txt files in output_dir\n",
    "    for file in os.listdir(output_dir):\n",
    "        if file.endswith(\".txt\"):\n",
    "            os.remove(os.path.join(output_dir, file))\n",
    "\n",
    "    # Extract epoch number, train loss and validation loss from epoch_loss_list\n",
    "    epoch = [x[0] for x in epoch_loss_list]\n",
    "    train_loss = [x[1] for x in epoch_loss_list]\n",
    "    val_loss = [x[2] for x in epoch_loss_list]\n",
    "\n",
    "    save_plot_name = f\"{output_dir}/loss_{model_params.get_model_code()}_epoch{model_params.num_epochs}_{timestamp}.png\"\n",
    "\n",
    "    # Plot train loss and validation loss against epoch number\n",
    "    plt.plot(epoch, train_loss, label='Train Loss')\n",
    "    plt.plot(epoch, val_loss, label='Validation Loss')\n",
    "    plt.title('Train and Validation Loss')\n",
    "    plt.legend()\n",
    "    plt.xlabel('Epoch')\n",
    "    plt.ylabel('Loss')\n",
    "    plt.tight_layout()\n",
    "\n",
    "    plt.savefig(save_plot_name)\n",
    "    plt.show()\n",
    "\n",
    "    # Return epoch_loss_list\n",
    "    return epoch_loss_list\n"
   ]
  },
  {
   "cell_type": "markdown",
   "metadata": {},
   "source": [
    "## working code"
   ]
  },
  {
   "cell_type": "code",
   "execution_count": 12,
   "metadata": {},
   "outputs": [
    {
     "name": "stderr",
     "output_type": "stream",
     "text": [
      "Training Epoch 1/1:   0%|          | 0/920 [00:00<?, ?it/s]"
     ]
    },
    {
     "name": "stderr",
     "output_type": "stream",
     "text": [
      "Training Epoch 1/1: 100%|██████████| 920/920 [02:29<00:00,  6.15it/s, loss=46.5]\n"
     ]
    },
    {
     "name": "stdout",
     "output_type": "stream",
     "text": [
      "Training Epoch 1/1 loss: 46.4614184529561\n",
      "Validation Epoch 1/1 loss: 46.56960289242081\n",
      "Finished Training\n"
     ]
    },
    {
     "data": {
      "image/png": "[encoded data removed]",
      "text/plain": [
       "<Figure size 640x480 with 1 Axes>"
      ]
     },
     "metadata": {},
     "output_type": "display_data"
    }
   ],
   "source": [
    "timestamp = datetime.now().strftime(\"%Y%m%d-%H%M%S\")\n",
    "loss_list = train(model, model_params, timestamp)"
   ]
  },
  {
   "cell_type": "code",
   "execution_count": 13,
   "metadata": {},
   "outputs": [],
   "source": [
    "print(\"Training output:\")\n",
    "for i in range(len(loss_list)):\n",
    "    print(loss_list[i])"
   ]
  },
  {
   "cell_type": "markdown",
   "metadata": {},
   "source": [
    "## Model saving"
   ]
  },
  {
   "cell_type": "code",
   "execution_count": 14,
   "metadata": {},
   "outputs": [],
   "source": [
    "model_save_path = \"trained_models/\"\n",
    "model_name_to_save = model_save_path + f\"{model_params.get_model_code()}_{timestamp}.pth\"\n",
    "print(model_name_to_save)\n",
    "torch.save(model.state_dict(), model_name_to_save)\n"
   ]
  },
  {
   "cell_type": "markdown",
   "metadata": {},
   "source": [
    "# Test model (loading and inference)"
   ]
  },
  {
   "cell_type": "markdown",
   "metadata": {},
   "source": [
    "Save results and export metrics to csv"
   ]
  },
  {
   "cell_type": "code",
   "execution_count": 15,
   "metadata": {},
   "outputs": [
    {
     "name": "stdout",
     "output_type": "stream",
     "text": [
      "Training output:\n",
      "[1, 46.4614184529561, 46.56960289242081]\n",
      "trained_models/11102_0.001_0_1_1_20231002-111944.pth\n",
      "SP_AffineNet(\n",
      "  (affineNet): AffineNet(\n",
      "    (conv1): Conv2d(1, 64, kernel_size=(3, 3), stride=(1, 1), padding=(1, 1))\n",
      "    (conv2): Conv2d(64, 128, kernel_size=(3, 3), stride=(1, 1), padding=(1, 1))\n",
      "    (conv3): Conv2d(128, 256, kernel_size=(3, 3), stride=(1, 1), padding=(1, 1))\n",
      "    (conv4): Conv2d(256, 512, kernel_size=(3, 3), stride=(1, 1), padding=(1, 1))\n",
      "    (conv5): Conv2d(512, 512, kernel_size=(3, 3), stride=(1, 1), padding=(1, 1))\n",
      "    (conv1s): Conv2d(64, 64, kernel_size=(2, 2), stride=(2, 2))\n",
      "    (conv2s): Conv2d(128, 128, kernel_size=(2, 2), stride=(2, 2))\n",
      "    (conv3s): Conv2d(256, 256, kernel_size=(2, 2), stride=(2, 2))\n",
      "    (conv4s): Conv2d(512, 512, kernel_size=(2, 2), stride=(2, 2))\n",
      "    (fc1): Linear(in_features=1024, out_features=128, bias=True)\n",
      "    (fc2): Linear(in_features=128, out_features=64, bias=True)\n",
      "    (fc3): Linear(in_features=64, out_features=32, bias=True)\n",
      "    (fc4): Linear(in_features=32, out_features=6, bias=True)\n",
      "    (aPooling): AdaptiveAvgPool2d(output_size=(1, 1))\n",
      "    (ReLU): LeakyReLU(negative_slope=0.01)\n",
      "    (Act1): GroupNorm(32, 64, eps=1e-05, affine=True)\n",
      "    (Act2): GroupNorm(64, 128, eps=1e-05, affine=True)\n",
      "    (Act3): GroupNorm(128, 256, eps=1e-05, affine=True)\n",
      "    (Act4): GroupNorm(256, 512, eps=1e-05, affine=True)\n",
      "    (Act5): GroupNorm(256, 512, eps=1e-05, affine=True)\n",
      "  )\n",
      ")\n"
     ]
    },
    {
     "data": {
      "text/plain": [
       "<All keys matched successfully>"
      ]
     },
     "execution_count": 15,
     "metadata": {},
     "output_type": "execute_result"
    }
   ],
   "source": [
    "model = SPmodel = SP_AffineNet().to(device)\n",
    "print(model)\n",
    "\n",
    "parameters = model.parameters()\n",
    "optimizer = optim.Adam(parameters, model_params.learning_rate)\n",
    "scheduler = optim.lr_scheduler.LambdaLR(optimizer, lambda epoch: model_params.decay_rate ** epoch)\n",
    "\n",
    "model.load_state_dict(torch.load(model_name_to_save))"
   ]
  },
  {
   "cell_type": "code",
   "execution_count": 16,
   "metadata": {},
   "outputs": [
    {
     "name": "stderr",
     "output_type": "stream",
     "text": [
      "Testing::  67%|██████▋   | 146/217 [05:48<02:49,  2.39s/it]\n"
     ]
    }
   ],
   "source": [
    "def test(model, model_params, timestamp):\n",
    "    # Set model to training mode\n",
    "    model.eval()\n",
    "\n",
    "    # Create output directory\n",
    "    output_dir = f\"output/{model_params.get_model_code()}_{timestamp}_test\"\n",
    "    os.makedirs(output_dir, exist_ok=True)\n",
    "\n",
    "    # Validate model\n",
    "    # validation_loss = 0.0\n",
    "\n",
    "    # create a csv file to store the metrics\n",
    "    csv_file = f\"{output_dir}/metrics.csv\"\n",
    "    with open(csv_file, 'w', newline='') as file:\n",
    "        writer = csv.writer(file)\n",
    "        # matches1_transformed.shape[-1], mse_before, mse12, tre_before, tre12, \\\n",
    "        # mse12_image, ssim12_image, \n",
    "        writer.writerow([\"index\", \"mse_before\", \"mse12\", \"tre_before\", \"tre12\", \"mse12_image_before\", \"mse12_image\", \"ssim12_image_before\", \"ssim12_image\"])\n",
    "\n",
    "    with torch.no_grad():\n",
    "        testbar = tqdm(test_dataset, desc=f'Testing:')\n",
    "        for i, data in enumerate(testbar, 0):\n",
    "            # Get images and affine parameters\n",
    "            if model_params.sup:\n",
    "                source_image, target_image, affine_params_true = data\n",
    "            else:\n",
    "                source_image, target_image = data\n",
    "            source_image = source_image.to(device)\n",
    "            target_image = target_image.to(device)\n",
    "\n",
    "            # Forward pass\n",
    "            outputs = model(source_image, target_image)\n",
    "            # for i in range(len(outputs)):\n",
    "            #     print(i, outputs[i].shape)\n",
    "            transformed_source_affine = outputs[0]\n",
    "            affine_params_predicted = outputs[1]\n",
    "            points1 = outputs[2]\n",
    "            points2 = outputs[3]\n",
    "            points1_affine = np.array(outputs[4])\n",
    "            try:\n",
    "                points1_affine = points1_affine.reshape(points1_affine.shape[2], points1_affine.shape[1])\n",
    "            except:\n",
    "                pass\n",
    "            desc1 = outputs[5]\n",
    "            desc2 = outputs[6]\n",
    "            heatmap1 = outputs[7]\n",
    "            heatmap2 = outputs[8]\n",
    "\n",
    "            output_file = f\"{output_dir}/validation.txt\"\n",
    "            try: # need to do this because the warning cannot be suppressed, fix clipping makes the image all black\n",
    "                # Open the file in append mode to save the print statements\n",
    "                with open(output_file, 'a') as file:\n",
    "                    # Redirect sys.stdout to the file\n",
    "                    sys.stdout = file\n",
    "\n",
    "                    # Redirect warnings to the file\n",
    "                    # warnings.filterwarnings('always')  # Capture all warnings\n",
    "                    warnings_file = open(output_file, 'a')\n",
    "                    warnings.showwarning = lambda message, category, filename, lineno, file=warnings_file, line=None: \\\n",
    "                        file.write(warnings.formatwarning(message, category, filename, lineno, line))\n",
    "\n",
    "                    # Plot images\n",
    "                    with capture_output():\n",
    "                        if i < 50:\n",
    "                            plot_ = True\n",
    "                        else:\n",
    "                            plot_ = False\n",
    "\n",
    "                        results = DL_affine_plot(f\"{i+1}\", output_dir,\n",
    "                            f\"{i}\", \"_\", source_image[0, 0, :, :].cpu().numpy(), target_image[0, 0, :, :].cpu().numpy(), \\\n",
    "                            transformed_source_affine[0, 0, :, :].cpu().numpy(), \\\n",
    "                            points1, points2, points1_affine, desc1, desc2, \\\n",
    "                                affine_params=affine_params_predicted, heatmap1=heatmap1, heatmap2=heatmap2, plot=plot_)\n",
    "\n",
    "                    # Reset sys.stdout to the console\n",
    "                    sys.stdout = sys.__stdout__\n",
    "                    warnings_file.close()\n",
    "            except Exception as e:\n",
    "                # Handle exceptions, if any\n",
    "                print(f\"An error occurred: {e}\")\n",
    "\n",
    "            # calculate metrics\n",
    "            # matches1_transformed = results[0]\n",
    "            mse_before = results[1]\n",
    "            mse12 = results[2]\n",
    "            tre_before = results[3]\n",
    "            tre12 = results[4]\n",
    "            mse12_image_before = results[5]\n",
    "            mse12_image = results[6]\n",
    "            ssim12_image_before = results[7]\n",
    "            ssim12_image = results[8]\n",
    "\n",
    "            # write metrics to csv file\n",
    "            with open(csv_file, 'a', newline='') as file:\n",
    "                writer = csv.writer(file) # TODO: might need to export true & predicted affine parameters too\n",
    "                writer.writerow([i, mse_before, mse12, tre_before, tre12, mse12_image_before, mse12_image, ssim12_image_before, ssim12_image])\n",
    "\n",
    "    # delete all txt files in output_dir\n",
    "    for file in os.listdir(output_dir):\n",
    "        if file.endswith(\".txt\"):\n",
    "            os.remove(os.path.join(output_dir, file))\n",
    "\n",
    "# timestamp = datetime.now().strftime(\"%Y%m%d-%H%M%S\")\n",
    "metrics = test(model, model_params, timestamp)"
   ]
  },
  {
   "cell_type": "code",
   "execution_count": null,
   "metadata": {},
   "outputs": [],
   "source": []
  }
 ],
 "metadata": {
  "kernelspec": {
   "display_name": "spppt",
   "language": "python",
   "name": "python3"
  },
  "language_info": {
   "codemirror_mode": {
    "name": "ipython",
    "version": 3
   },
   "file_extension": ".py",
   "mimetype": "text/x-python",
   "name": "python",
   "nbconvert_exporter": "python",
   "pygments_lexer": "ipython3",
   "version": "3.8.18"
  }
 },
 "nbformat": 4,
 "nbformat_minor": 2
}
